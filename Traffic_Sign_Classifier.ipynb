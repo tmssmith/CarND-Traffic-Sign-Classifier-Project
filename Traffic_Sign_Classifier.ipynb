{
 "cells": [
  {
   "cell_type": "markdown",
   "metadata": {},
   "source": [
    "# Self-Driving Car Engineer Nanodegree\n",
    "\n",
    "## Deep Learning\n",
    "\n",
    "## Project: Build a Traffic Sign Recognition Classifier\n",
    "\n",
    "In this notebook, a template is provided for you to implement your functionality in stages, which is required to successfully complete this project. If additional code is required that cannot be included in the notebook, be sure that the Python code is successfully imported and included in your submission if necessary. \n",
    "\n",
    "> **Note**: Once you have completed all of the code implementations, you need to finalize your work by exporting the iPython Notebook as an HTML document. Before exporting the notebook to html, all of the code cells need to have been run so that reviewers can see the final implementation and output. You can then export the notebook by using the menu above and navigating to  \\n\",\n",
    "    \"**File -> Download as -> HTML (.html)**. Include the finished document along with this notebook as your submission. \n",
    "\n",
    "In addition to implementing code, there is a writeup to complete. The writeup should be completed in a separate file, which can be either a markdown file or a pdf document. There is a [write up template](https://github.com/udacity/CarND-Traffic-Sign-Classifier-Project/blob/master/writeup_template.md) that can be used to guide the writing process. Completing the code template and writeup template will cover all of the [rubric points](https://review.udacity.com/#!/rubrics/481/view) for this project.\n",
    "\n",
    "The [rubric](https://review.udacity.com/#!/rubrics/481/view) contains \"Stand Out Suggestions\" for enhancing the project beyond the minimum requirements. The stand out suggestions are optional. If you decide to pursue the \"stand out suggestions\", you can include the code in this Ipython notebook and also discuss the results in the writeup file.\n",
    "\n",
    "\n",
    ">**Note:** Code and Markdown cells can be executed using the **Shift + Enter** keyboard shortcut. In addition, Markdown cells can be edited by typically double-clicking the cell to enter edit mode."
   ]
  },
  {
   "cell_type": "markdown",
   "metadata": {},
   "source": [
    "---\n",
    "## Step 0: Load The Data"
   ]
  },
  {
   "cell_type": "code",
   "execution_count": 1,
   "metadata": {
    "collapsed": false,
    "jupyter": {
     "outputs_hidden": false
    }
   },
   "outputs": [],
   "source": [
    "# Load pickled data\n",
    "import pickle\n",
    "\n",
    "# TODO: Fill this in based on where you saved the training and testing data\n",
    "\n",
    "training_file = './traffic-signs-data/train.p'\n",
    "validation_file= './traffic-signs-data/valid.p'\n",
    "testing_file = './traffic-signs-data/test.p'\n",
    "\n",
    "with open(training_file, mode='rb') as f:\n",
    "    train = pickle.load(f)\n",
    "with open(validation_file, mode='rb') as f:\n",
    "    valid = pickle.load(f)\n",
    "with open(testing_file, mode='rb') as f:\n",
    "    test = pickle.load(f)\n",
    "    \n",
    "X_train, y_train, imgsize_train, coords_train = train['features'], train['labels'], train['sizes'], train['coords']\n",
    "X_valid, y_valid, imgsize_valid, coords_valid = valid['features'], valid['labels'], valid['sizes'], valid['coords']\n",
    "X_test, y_test, imgsize_test, coords_test = test['features'], test['labels'], test['sizes'], test['coords']"
   ]
  },
  {
   "cell_type": "markdown",
   "metadata": {},
   "source": [
    "---\n",
    "\n",
    "## Step 1: Dataset Summary & Exploration\n",
    "\n",
    "The pickled data is a dictionary with 4 key/value pairs:\n",
    "\n",
    "- `'features'` is a 4D array containing raw pixel data of the traffic sign images, (num examples, width, height, channels).\n",
    "- `'labels'` is a 1D array containing the label/class id of the traffic sign. The file `signnames.csv` contains id -> name mappings for each id.\n",
    "- `'sizes'` is a list containing tuples, (width, height) representing the original width and height the image.\n",
    "- `'coords'` is a list containing tuples, (x1, y1, x2, y2) representing coordinates of a bounding box around the sign in the image. **THESE COORDINATES ASSUME THE ORIGINAL IMAGE. THE PICKLED DATA CONTAINS RESIZED VERSIONS (32 by 32) OF THESE IMAGES**\n",
    "\n",
    "Complete the basic data summary below. Use python, numpy and/or pandas methods to calculate the data summary rather than hard coding the results. For example, the [pandas shape method](http://pandas.pydata.org/pandas-docs/stable/generated/pandas.DataFrame.shape.html) might be useful for calculating some of the summary results. "
   ]
  },
  {
   "cell_type": "markdown",
   "metadata": {},
   "source": [
    "### Provide a Basic Summary of the Data Set Using Python, Numpy and/or Pandas"
   ]
  },
  {
   "cell_type": "code",
   "execution_count": 2,
   "metadata": {},
   "outputs": [
    {
     "name": "stderr",
     "output_type": "stream",
     "text": [
      "/Users/Rhiannon/opt/miniconda3/envs/carnd-term1/lib/python3.7/site-packages/tensorflow/python/framework/dtypes.py:526: FutureWarning: Passing (type, 1) or '1type' as a synonym of type is deprecated; in a future version of numpy, it will be understood as (type, (1,)) / '(1,)type'.\n",
      "  _np_qint8 = np.dtype([(\"qint8\", np.int8, 1)])\n",
      "/Users/Rhiannon/opt/miniconda3/envs/carnd-term1/lib/python3.7/site-packages/tensorflow/python/framework/dtypes.py:527: FutureWarning: Passing (type, 1) or '1type' as a synonym of type is deprecated; in a future version of numpy, it will be understood as (type, (1,)) / '(1,)type'.\n",
      "  _np_quint8 = np.dtype([(\"quint8\", np.uint8, 1)])\n",
      "/Users/Rhiannon/opt/miniconda3/envs/carnd-term1/lib/python3.7/site-packages/tensorflow/python/framework/dtypes.py:528: FutureWarning: Passing (type, 1) or '1type' as a synonym of type is deprecated; in a future version of numpy, it will be understood as (type, (1,)) / '(1,)type'.\n",
      "  _np_qint16 = np.dtype([(\"qint16\", np.int16, 1)])\n",
      "/Users/Rhiannon/opt/miniconda3/envs/carnd-term1/lib/python3.7/site-packages/tensorflow/python/framework/dtypes.py:529: FutureWarning: Passing (type, 1) or '1type' as a synonym of type is deprecated; in a future version of numpy, it will be understood as (type, (1,)) / '(1,)type'.\n",
      "  _np_quint16 = np.dtype([(\"quint16\", np.uint16, 1)])\n",
      "/Users/Rhiannon/opt/miniconda3/envs/carnd-term1/lib/python3.7/site-packages/tensorflow/python/framework/dtypes.py:530: FutureWarning: Passing (type, 1) or '1type' as a synonym of type is deprecated; in a future version of numpy, it will be understood as (type, (1,)) / '(1,)type'.\n",
      "  _np_qint32 = np.dtype([(\"qint32\", np.int32, 1)])\n",
      "/Users/Rhiannon/opt/miniconda3/envs/carnd-term1/lib/python3.7/site-packages/tensorflow/python/framework/dtypes.py:535: FutureWarning: Passing (type, 1) or '1type' as a synonym of type is deprecated; in a future version of numpy, it will be understood as (type, (1,)) / '(1,)type'.\n",
      "  np_resource = np.dtype([(\"resource\", np.ubyte, 1)])\n"
     ]
    }
   ],
   "source": [
    "import numpy as np\n",
    "from random import randint\n",
    "import csv\n",
    "from sklearn.utils import shuffle\n",
    "import tensorflow as tf\n",
    "from tensorflow.contrib.layers import flatten\n",
    "import matplotlib.pyplot as plt\n",
    "import matplotlib.patches as patches\n",
    "# Visualizations will be shown in the notebook.\n",
    "%matplotlib inline"
   ]
  },
  {
   "cell_type": "code",
   "execution_count": 3,
   "metadata": {},
   "outputs": [
    {
     "name": "stdout",
     "output_type": "stream",
     "text": [
      "Number of training examples = 34799\n",
      "Number of validation examples = 4410\n",
      "Number of testing examples = 12630\n",
      "Image data shape = (32, 32, 3)\n",
      "Number of classes = 43\n"
     ]
    }
   ],
   "source": [
    "### Replace each question mark with the appropriate value. \n",
    "### Use python, pandas or numpy methods rather than hard coding the results\n",
    "\n",
    "# TODO: Number of training examples\n",
    "n_train = len(y_train)\n",
    "\n",
    "# TODO: Number of validation examples\n",
    "n_validation = len(y_valid)\n",
    "\n",
    "# TODO: Number of testing examples.\n",
    "n_test = len(y_test)\n",
    "\n",
    "# TODO: What's the shape of an traffic sign image?\n",
    "image_shape = X_train[0].shape\n",
    "\n",
    "# TODO: How many unique classes/labels there are in the dataset.\n",
    "n_classes = len(np.unique(y_train))\n",
    "\n",
    "print(\"Number of training examples =\", n_train)\n",
    "print(\"Number of validation examples =\", n_validation)\n",
    "print(\"Number of testing examples =\", n_test)\n",
    "print(\"Image data shape =\", image_shape)\n",
    "print(\"Number of classes =\", n_classes)"
   ]
  },
  {
   "cell_type": "markdown",
   "metadata": {},
   "source": [
    "### Include an exploratory visualization of the dataset"
   ]
  },
  {
   "cell_type": "markdown",
   "metadata": {},
   "source": [
    "Visualize the German Traffic Signs Dataset using the pickled file(s). This is open ended, suggestions include: plotting traffic sign images, plotting the count of each sign, etc. \n",
    "\n",
    "The [Matplotlib](http://matplotlib.org/) [examples](http://matplotlib.org/examples/index.html) and [gallery](http://matplotlib.org/gallery.html) pages are a great resource for doing visualizations in Python.\n",
    "\n",
    "**NOTE:** It's recommended you start with something simple first. If you wish to do more, come back to it after you've completed the rest of the sections. It can be interesting to look at the distribution of classes in the training, validation and test set. Is the distribution the same? Are there more examples of some classes than others?"
   ]
  },
  {
   "cell_type": "code",
   "execution_count": 4,
   "metadata": {},
   "outputs": [],
   "source": [
    "### Data exploration visualization code goes here.\n",
    "### Feel free to use as many code cells as needed.\n",
    "\n",
    "reader = csv.reader(open('signnames.csv', 'r'))\n",
    "\n",
    "# make sign names dictionary for cross referencing sign class IDs. Header row is skipped\n",
    "signnames_dict = {int(row[0]): str(row[1]) for i, row in enumerate(reader) if i > 0}"
   ]
  },
  {
   "cell_type": "code",
   "execution_count": 5,
   "metadata": {},
   "outputs": [
    {
     "data": {
      "image/png": "[encoded data removed]",
      "text/plain": [
       "<Figure size 432x288 with 1 Axes>"
      ]
     },
     "metadata": {
      "needs_background": "light"
     },
     "output_type": "display_data"
    }
   ],
   "source": [
    "random_index = randint(0, n_train)\n",
    "example_traffic_sign_image = X_train[random_index]\n",
    "example_traffic_sign_classID = y_train[random_index]\n",
    "example_traffic_sign_name = signnames_dict[example_traffic_sign_classID]\n",
    "\n",
    "plt.imshow(example_traffic_sign_image)\n",
    "plt.title(example_traffic_sign_name)\n",
    "plt.axis('Off');"
   ]
  },
  {
   "cell_type": "code",
   "execution_count": 8,
   "metadata": {},
   "outputs": [],
   "source": [
    "orig_imgsize = imgsize_train[random_index]\n",
    "orig_coords = coords_train[random_index]\n",
    "rect_orig = (orig_coords[0], orig_coords[1])\n",
    "rect_width = orig_coords[2] - orig_coords[0]\n",
    "rect_height = orig_coords[3] - orig_coords[1]"
   ]
  },
  {
   "cell_type": "code",
   "execution_count": 9,
   "metadata": {},
   "outputs": [
    {
     "data": {
      "image/png": "[encoded data removed]",
      "text/plain": [
       "<Figure size 432x288 with 1 Axes>"
      ]
     },
     "metadata": {
      "needs_background": "light"
     },
     "output_type": "display_data"
    }
   ],
   "source": [
    "fig = plt.figure()\n",
    "ax = fig.add_subplot(111)\n",
    "ax.imshow(example_traffic_sign_image)\n",
    "rect = patches.Rectangle(rect_orig, rect_width, rect_height, edgecolor='k', fill=False, ls='--')\n",
    "ax.add_patch(rect);"
   ]
  },
  {
   "cell_type": "code",
   "execution_count": 10,
   "metadata": {},
   "outputs": [
    {
     "data": {
      "image/png": "[encoded data removed]",
      "text/plain": [
       "<Figure size 720x216 with 1 Axes>"
      ]
     },
     "metadata": {
      "needs_background": "light"
     },
     "output_type": "display_data"
    }
   ],
   "source": [
    "fig = plt.figure(figsize=(10,3))\n",
    "ax = fig.add_subplot(111)\n",
    "counts, bins, patches = ax.hist(y_train, bins = n_classes)\n",
    "# fig = plt.hist(y_train)\n",
    "# ax.set_xticklabels(signnames_dict, rotation=45, rotation_mode=\"anchor\", ha=\"right\");\n",
    "ax.set_xticks(range(0, n_classes, 1))\n",
    "# ax.set_xticks(bins)\n",
    "\n",
    "ax.set_xlabel('Sign Class ID')\n",
    "ax.set_ylabel('Count');"
   ]
  },
  {
   "cell_type": "code",
   "execution_count": 11,
   "metadata": {},
   "outputs": [
    {
     "data": {
      "image/png": "[encoded data removed]",
      "text/plain": [
       "<Figure size 720x216 with 1 Axes>"
      ]
     },
     "metadata": {
      "needs_background": "light"
     },
     "output_type": "display_data"
    }
   ],
   "source": [
    "bars_train = []\n",
    "for class_id in range(0, n_classes):\n",
    "    bars_train.append((y_train == class_id).sum())\n",
    "bars_train = np.array(bars_train)\n",
    "\n",
    "fig = plt.figure(figsize=(10,3))\n",
    "ax = fig.add_subplot(111)\n",
    "ax.bar(range(0, n_classes), bars_train)\n",
    "ax.set_xticks(range(0, n_classes));\n",
    "ax.set_xlabel('Sign Class ID')\n",
    "ax.set_ylabel('Count');\n",
    "# ax.set_xticklabels(signnames_dict.values(), rotation=45, rotation_mode=\"anchor\", ha=\"right\");"
   ]
  },
  {
   "cell_type": "code",
   "execution_count": 12,
   "metadata": {},
   "outputs": [
    {
     "data": {
      "image/png": "[encoded data removed]",
      "text/plain": [
       "<Figure size 720x216 with 1 Axes>"
      ]
     },
     "metadata": {
      "needs_background": "light"
     },
     "output_type": "display_data"
    }
   ],
   "source": [
    "bars_valid = []\n",
    "for class_id in range(0, n_classes):\n",
    "    bars_valid.append((y_valid == class_id).sum())\n",
    "bars_valid = np.array(bars_valid)\n",
    "\n",
    "fig = plt.figure(figsize=(10,3))\n",
    "ax = fig.add_subplot(111)\n",
    "ax.bar(range(0, n_classes), bars_valid)\n",
    "ax.set_xticks(range(0, n_classes));\n",
    "ax.set_xlabel('Sign Class ID')\n",
    "ax.set_ylabel('Count');"
   ]
  },
  {
   "cell_type": "code",
   "execution_count": 13,
   "metadata": {},
   "outputs": [
    {
     "data": {
      "image/png": "[encoded data removed]",
      "text/plain": [
       "<Figure size 720x216 with 1 Axes>"
      ]
     },
     "metadata": {
      "needs_background": "light"
     },
     "output_type": "display_data"
    }
   ],
   "source": [
    "bars_test = []\n",
    "for class_id in range(0, n_classes):\n",
    "    bars_test.append((y_test == class_id).sum())\n",
    "bars_test = np.array(bars_test)\n",
    "\n",
    "fig = plt.figure(figsize=(10,3))\n",
    "ax = fig.add_subplot(111)\n",
    "ax.bar(range(0, n_classes), bars_test)\n",
    "ax.set_xticks(range(0, n_classes));\n",
    "ax.set_xlabel('Sign Class ID')\n",
    "ax.set_ylabel('Count');"
   ]
  },
  {
   "cell_type": "code",
   "execution_count": 14,
   "metadata": {},
   "outputs": [
    {
     "data": {
      "image/png": "[encoded data removed]",
      "text/plain": [
       "<Figure size 1080x360 with 1 Axes>"
      ]
     },
     "metadata": {
      "needs_background": "light"
     },
     "output_type": "display_data"
    }
   ],
   "source": [
    "fig = plt.figure(figsize=(15,5))\n",
    "ax = fig.add_subplot(111)\n",
    "ax.grid(axis='y')\n",
    "ax.set_axisbelow(True)\n",
    "ax.set_title('Number of Examples within Classes broken down by Type')\n",
    "ax.bar(range(0, n_classes), bars_train, label='Training examples')\n",
    "ax.bar(range(0, n_classes), bars_valid, bottom=bars_train, label='Validation examples')\n",
    "ax.bar(range(0, n_classes), bars_test, bottom=bars_train+bars_valid, label='Testing examples')\n",
    "ax.hlines(np.mean(bars_train+bars_valid+bars_test),0,n_classes, linestyles='dashed', colors='r', label='Average')\n",
    "# ax.grid(axis= 'y', color=(0.2,0.2,0.2),linewidth=1)\n",
    "ax.set_xticks(range(0, n_classes))\n",
    "ax.set\n",
    "ax.legend();\n",
    "ax.set_xlabel('Sign Class ID')\n",
    "ax.set_ylabel('Count');"
   ]
  },
  {
   "cell_type": "code",
   "execution_count": 15,
   "metadata": {},
   "outputs": [
    {
     "data": {
      "image/png": "[encoded data removed]",
      "text/plain": [
       "<Figure size 1080x360 with 1 Axes>"
      ]
     },
     "metadata": {
      "needs_background": "light"
     },
     "output_type": "display_data"
    }
   ],
   "source": [
    "bars_total = bars_train + bars_valid + bars_test\n",
    "bars_train_norm = bars_train / bars_total\n",
    "bars_valid_norm = bars_valid / bars_total\n",
    "bars_test_norm = bars_test / bars_total\n",
    "\n",
    "fig = plt.figure(figsize=(15,5))\n",
    "ax = fig.add_subplot(111)\n",
    "ax.set_title('Normalised Distribution of Example Types within each Class')\n",
    "ax.grid(axis='y')\n",
    "ax.set_axisbelow(True)\n",
    "ax.bar(range(0, n_classes), bars_train_norm, label='Training examples')\n",
    "ax.bar(range(0, n_classes), bars_valid_norm, bottom=bars_train_norm, label='Validation examples')\n",
    "ax.bar(range(0, n_classes), bars_test_norm, bottom=bars_train_norm+bars_valid_norm, label='Testing examples')\n",
    "ax.set_xticks(range(0, n_classes))\n",
    "ax.set\n",
    "ax.legend();\n",
    "ax.set_xlabel('Sign Class ID')\n",
    "ax.set_ylabel('Normalised quantities');"
   ]
  },
  {
   "cell_type": "markdown",
   "metadata": {},
   "source": [
    "----\n",
    "\n",
    "## Step 2: Design and Test a Model Architecture\n",
    "\n",
    "Design and implement a deep learning model that learns to recognize traffic signs. Train and test your model on the [German Traffic Sign Dataset](http://benchmark.ini.rub.de/?section=gtsrb&subsection=dataset).\n",
    "\n",
    "The LeNet-5 implementation shown in the [classroom](https://classroom.udacity.com/nanodegrees/nd013/parts/fbf77062-5703-404e-b60c-95b78b2f3f9e/modules/6df7ae49-c61c-4bb2-a23e-6527e69209ec/lessons/601ae704-1035-4287-8b11-e2c2716217ad/concepts/d4aca031-508f-4e0b-b493-e7b706120f81) at the end of the CNN lesson is a solid starting point. You'll have to change the number of classes and possibly the preprocessing, but aside from that it's plug and play! \n",
    "\n",
    "With the LeNet-5 solution from the lecture, you should expect a validation set accuracy of about 0.89. To meet specifications, the validation set accuracy will need to be at least 0.93. It is possible to get an even higher accuracy, but 0.93 is the minimum for a successful project submission. \n",
    "\n",
    "There are various aspects to consider when thinking about this problem:\n",
    "\n",
    "- Neural network architecture (is the network over or underfitting?)\n",
    "- Play around preprocessing techniques (normalization, rgb to grayscale, etc)\n",
    "- Number of examples per label (some have more than others).\n",
    "- Generate fake data.\n",
    "\n",
    "Here is an example of a [published baseline model on this problem](http://yann.lecun.com/exdb/publis/pdf/sermanet-ijcnn-11.pdf). It's not required to be familiar with the approach used in the paper but, it's good practice to try to read papers like these."
   ]
  },
  {
   "cell_type": "markdown",
   "metadata": {},
   "source": [
    "### Pre-process the Data Set (normalization, grayscale, etc.)"
   ]
  },
  {
   "cell_type": "markdown",
   "metadata": {},
   "source": [
    "Minimally, the image data should be normalized so that the data has mean zero and equal variance. For image data, `(pixel - 128)/ 128` is a quick way to approximately normalize the data and can be used in this project. \n",
    "\n",
    "Other pre-processing steps are optional. You can try different techniques to see if it improves performance. \n",
    "\n",
    "Use the code cell (or multiple code cells, if necessary) to implement the first step of your project."
   ]
  },
  {
   "cell_type": "code",
   "execution_count": null,
   "metadata": {},
   "outputs": [],
   "source": [
    "# X_train_processed = (X_train - 128) / 128\n",
    "print('\\\n",
    "X_train mean: {:.2f} \\n\\\n",
    "X_train min: {} \\n\\\n",
    "X_train max: {}'.format(\n",
    "np.mean(X_train), np.min(X_train), np.max(X_train)))\n",
    "\n",
    "X_train_processed = ((X_train.astype(np.float32) - 128) / 128)\n",
    "print('\\\n",
    "X_train_processed mean: {:.2f} \\n\\\n",
    "X_train min_processed: {} \\n\\\n",
    "X_train max_processed: {}'.format(\n",
    "np.mean(X_train_processed), np.min(X_train_processed), np.max(X_train_processed)))\n",
    "\n",
    "all = X_train_processed.flatten()\n",
    "plt.hist(all, bins = 50)\n",
    "plt.axvline(np.mean(X_train_processed),c='r');"
   ]
  },
  {
   "cell_type": "code",
   "execution_count": null,
   "metadata": {},
   "outputs": [],
   "source": [
    "### Preprocess the data here. It is required to normalize the data. Other preprocessing steps could include \n",
    "### converting to grayscale, etc.\n",
    "### Feel free to use as many code cells as needed.\n",
    "# Normalise\n",
    "X_train_norm = X_train / 255\n",
    "\n",
    "# Center\n",
    "# print( (np.mean(X_train_norm, axis=(1,2,3)))[:, np.newaxis, np.newaxis, np.newaxis])\n",
    "X_train_cent = X_train_norm - (np.mean(X_train_norm, axis=(1,2,3)))[:, np.newaxis, np.newaxis, np.newaxis]\n",
    "\n",
    "all_px = X_train_cent.flatten();"
   ]
  },
  {
   "cell_type": "code",
   "execution_count": null,
   "metadata": {},
   "outputs": [],
   "source": [
    "X_train_gray = np.mean(X_train_cent, axis=3)[:,:,:,np.newaxis]\n",
    "print(X_train_gray.shape)"
   ]
  },
  {
   "cell_type": "code",
   "execution_count": null,
   "metadata": {},
   "outputs": [],
   "source": [
    "fig = plt.figure()\n",
    "ax = fig.add_subplot(111)\n",
    "ax.hist(all_px, bins = 50)\n",
    "ax.axvline(np.mean(X_train_gray),c='r')\n",
    "ax.set_title('Histogram of Preprocessed Pixel Values across Training Set')\n",
    "ax.grid()\n",
    "ax.set_axisbelow(True)\n",
    "ax.set_xlabel('Preprocessed pixel value')\n",
    "ax.set_ylabel('Count');"
   ]
  },
  {
   "cell_type": "code",
   "execution_count": null,
   "metadata": {},
   "outputs": [],
   "source": [
    "### Preprocess the data here. It is required to normalize the data. Other preprocessing steps could include \n",
    "### converting to grayscale, etc.\n",
    "### Feel free to use as many code cells as needed.\n",
    "# Normalise\n",
    "X_valid_norm = X_valid / 255\n",
    "\n",
    "# Center\n",
    "# print( (np.mean(X_train_norm, axis=(1,2,3)))[:, np.newaxis, np.newaxis, np.newaxis])\n",
    "X_valid_cent = X_valid_norm - (np.mean(X_valid_norm, axis=(1,2,3)))[:, np.newaxis, np.newaxis, np.newaxis]\n",
    "\n",
    "all_px_valid = X_valid_cent.flatten();"
   ]
  },
  {
   "cell_type": "code",
   "execution_count": null,
   "metadata": {},
   "outputs": [],
   "source": [
    "X_valid_gray = np.mean(X_valid_cent, axis=3)[:,:,:,np.newaxis]\n",
    "print(X_valid_gray.shape)"
   ]
  },
  {
   "cell_type": "code",
   "execution_count": null,
   "metadata": {},
   "outputs": [],
   "source": [
    "fig = plt.figure()\n",
    "ax = fig.add_subplot(111)\n",
    "ax.hist(all_px_valid, bins = 50)\n",
    "ax.axvline(np.mean(X_valid_gray),c='r')\n",
    "ax.set_title('Histogram of Preprocessed Pixel Values across Validation Set')\n",
    "ax.grid()\n",
    "ax.set_axisbelow(True)\n",
    "ax.set_xlabel('Preprocessed pixel value')\n",
    "ax.set_ylabel('Count');"
   ]
  },
  {
   "cell_type": "markdown",
   "metadata": {},
   "source": [
    "### Model Architecture"
   ]
  },
  {
   "cell_type": "markdown",
   "metadata": {},
   "source": [
    "# LeNet Architecture\n",
    "\n",
    "Implement the LeNet architecture as a starting point.\n",
    "![LeNet Architecture](lenet.png)\n",
    "Source: Yan LeCun"
   ]
  },
  {
   "cell_type": "markdown",
   "metadata": {},
   "source": [
    "### Hyperparameters"
   ]
  },
  {
   "cell_type": "code",
   "execution_count": 16,
   "metadata": {},
   "outputs": [
    {
     "name": "stdout",
     "output_type": "stream",
     "text": [
      "WARNING:tensorflow:From /Users/Rhiannon/opt/miniconda3/envs/carnd-term1/lib/python3.7/site-packages/tensorflow/python/framework/op_def_library.py:263: colocate_with (from tensorflow.python.framework.ops) is deprecated and will be removed in a future version.\n",
      "Instructions for updating:\n",
      "Colocations handled automatically by placer.\n",
      "<tf.Variable 'Variable:0' shape=(5, 5, 1, 6) dtype=float32_ref>\n"
     ]
    }
   ],
   "source": [
    "##--- HYPERPARAMETERS ---##\n",
    "\n",
    "## TODO: REFACTOR DICTIONARIES BY LAYER...\n",
    "    # e.g. layer1 = {'weights': [], 'bias': [], 'strides':[], 'k_size':[]}\n",
    "\n",
    "EPOCHS = 10\n",
    "BATCH_SIZE = 128\n",
    "\n",
    "rate = 0.001\n",
    "\n",
    "# Arguments used for tf.truncated_normal, randomly defines variables for the weights and biases for each layer\n",
    "mu = 0\n",
    "sigma = 0.1\n",
    "\n",
    "# Weights\n",
    "weights = {\n",
    "    'wc1': tf.Variable(tf.truncated_normal([5,5,1,6], mu, sigma)),\n",
    "    'wc2': tf.Variable(tf.truncated_normal([5,5,6,16], mu, sigma)),\n",
    "    'wd1': tf.Variable(tf.truncated_normal([400, 120], mu, sigma)),\n",
    "    'wd2': tf.Variable(tf.truncated_normal([120, 84], mu, sigma)),\n",
    "    'wd3': tf.Variable(tf.truncated_normal([84, 10], mu, sigma))\n",
    "}\n",
    "\n",
    "print(weights['wc1'])\n",
    "\n",
    "# Biases\n",
    "biases = {\n",
    "    'bc1': tf.Variable(tf.zeros(6)),\n",
    "    'bc2': tf.Variable(tf.zeros(16)),\n",
    "    'bd1': tf.Variable(tf.zeros(120)),\n",
    "    'bd2': tf.Variable(tf.zeros(84)),\n",
    "    'bd3': tf.Variable(tf.zeros(10))\n",
    "}\n",
    "\n",
    "# Strides (Convolutional and max pool layers)\n",
    "strides = {\n",
    "    'sc1': [1,1,1,1],\n",
    "    'mp1': [1,2,2,1],\n",
    "    'sc2': [1,1,1,1],\n",
    "    'mp2': [1,2,2,1]\n",
    "}\n",
    "\n",
    "# Kernel size (max pool layers)\n",
    "k_size = {\n",
    "    'mp1': [1,2,2,1],\n",
    "    'mp2': [1,2,2,1]\n",
    "}"
   ]
  },
  {
   "cell_type": "code",
   "execution_count": 20,
   "metadata": {},
   "outputs": [],
   "source": [
    "def LeNet(x):   \n",
    "        \n",
    "    ##--- LENET ARCHITECTURE ---##\n",
    "    # Layer 1: Convolutional. Input = 32x32x3, Output = 28x28x6\n",
    "    # Pooling. Input = 28x28x6, Output = 14x14x6\n",
    "    # Layer 2: Convolutional. Output = 10x10x16\n",
    "    # Pooling. Input = 10x10x16, Output = 5x5x16\n",
    "    # Flatten. Input = 5x5x16, Output = 400\n",
    "    # Layer 3: Fully Connected. Input = 400, Output = 120\n",
    "    # Layer 4: Fully Connected. Input = 120, Output = 84\n",
    "    # Logits: Fully Connected. Input = 84, Output = 10\n",
    "    \n",
    "    \n",
    "\n",
    "    # Layer 1: Convolutional. Input = 32x32x1, Output = 28x28x6\n",
    "    wc1 = tf.Variable(tf.truncated_normal([5,5,3,6], mu, sigma))\n",
    "    bc1 = tf.Variable(tf.zeros(6))\n",
    "    conv1 = tf.nn.conv2d(\n",
    "        x,\n",
    "        wc1,\n",
    "        [1,1,1,1],\n",
    "        padding='VALID')\n",
    "    conv1 = tf.nn.bias_add(conv1, bc1)\n",
    "    \n",
    "    # Layer 1: Activation with RELU function\n",
    "    conv1 = tf.nn.relu(conv1)\n",
    "\n",
    "    # Pooling. Input = 28x28x6, Output = 14x14x6\n",
    "    conv1 = tf.nn.max_pool(\n",
    "        conv1,\n",
    "        [1,2,2,1],\n",
    "        [1,2,2,1],\n",
    "        padding='VALID'\n",
    "    )\n",
    "    \n",
    "    # Layer 2: Convolutional. Output = 10x10x16\n",
    "    wc2 = tf.Variable(tf.truncated_normal([5,5,6,16], mu, sigma))\n",
    "    bc2 = tf.Variable(tf.zeros(16))\n",
    "    \n",
    "    conv2 = tf.nn.conv2d(\n",
    "        conv1,\n",
    "        wc2,\n",
    "        [1,1,1,1],\n",
    "        padding='VALID')\n",
    "    conv2 = tf.nn.bias_add(conv2, bc2)   \n",
    "    \n",
    "    # Layer 2: Activation with RELU function\n",
    "    conv2 = tf.nn.relu(conv2)\n",
    "    \n",
    "    # Pooling. Input = 10x10x16, Output = 5x5x16\n",
    "    conv2 = tf.nn.max_pool(\n",
    "        conv2,\n",
    "        [1,2,2,1],\n",
    "        [1,2,2,1],\n",
    "        padding='VALID'\n",
    "        )\n",
    "    \n",
    "    # Flatten. Input = 5x5x16, Output = 400\n",
    "    conv2_flat = tf.contrib.layers.flatten(conv2)\n",
    "    \n",
    "    # Layer 3: Fully Connected. Input = 400, Output = 120\n",
    "    wd1 = tf.Variable(tf.truncated_normal([400, 120], mu, sigma))\n",
    "    bd1 = tf.Variable(tf.zeros(120))\n",
    "\n",
    "    fc1 = tf.add(tf.matmul(conv2_flat, wd1), bd1)\n",
    "    \n",
    "    # Activation with RELU function\n",
    "    fc1 = tf.nn.relu(fc1)\n",
    "\n",
    "    # Layer 4: Fully Connected. Input = 120, Output = 84\n",
    "    wd2 = tf.Variable(tf.truncated_normal([120, 84], mu, sigma))\n",
    "    bd2 = tf.Variable(tf.zeros(84))\n",
    "    \n",
    "    fc2 = tf.add(tf.matmul(fc1, wd2), bd2)\n",
    "    \n",
    "    # Activation with RELU function\n",
    "    fc2 = tf.nn.relu(fc2)\n",
    "\n",
    "    # Logits: Fully Connected. Input = 84, Output = 10\n",
    "    wd3 = tf.Variable(tf.truncated_normal([84, 10], mu, sigma))\n",
    "    bd3 = tf.Variable(tf.zeros(10))\n",
    "    \n",
    "    logits = tf.add(tf.matmul(fc2, wd3), bd3)\n",
    "    \n",
    "    return logits"
   ]
  },
  {
   "cell_type": "markdown",
   "metadata": {},
   "source": [
    "def LeNet(x):   \n",
    "        \n",
    "    ##--- LENET ARCHITECTURE ---##\n",
    "    # Layer 1: Convolutional. Input = 32x32x3, Output = 28x28x6\n",
    "    # Pooling. Input = 28x28x6, Output = 14x14x6\n",
    "    # Layer 2: Convolutional. Output = 10x10x16\n",
    "    # Pooling. Input = 10x10x16, Output = 5x5x16\n",
    "    # Flatten. Input = 5x5x16, Output = 400\n",
    "    # Layer 3: Fully Connected. Input = 400, Output = 120\n",
    "    # Layer 4: Fully Connected. Input = 120, Output = 84\n",
    "    # Logits: Fully Connected. Input = 84, Output = 10\n",
    "    \n",
    "    \n",
    "\n",
    "    # Layer 1: Convolutional. Input = 32x32x1, Output = 28x28x6\n",
    "#     wc1 = tf.Variable(tf.truncated_normal([5,5,1,6], mu, sigma))\n",
    "#     bc1 = tf.Variable(tf.zeros(6))\n",
    "    conv1 = tf.nn.conv2d(\n",
    "        x,\n",
    "        weights['wc1'],\n",
    "        strides['sc1'],\n",
    "        padding='VALID')\n",
    "    conv1 = tf.nn.bias_add(conv1, biases['bc1'])\n",
    "    \n",
    "    # Layer 1: Activation with RELU function\n",
    "    conv1 = tf.nn.relu(conv1)\n",
    "\n",
    "    # Pooling. Input = 28x28x6, Output = 14x14x6\n",
    "    conv1 = tf.nn.max_pool(\n",
    "        conv1,\n",
    "        k_size['mp1'],\n",
    "        strides['mp1'],\n",
    "        padding='VALID'\n",
    "    )\n",
    "    \n",
    "    # Layer 2: Convolutional. Output = 10x10x16\n",
    "#     wc2 = tf.Variable(tf.truncated_normal([5,5,6,16], mu, sigma))\n",
    "#     bc2 = tf.Variable(tf.zeros(16))\n",
    "    \n",
    "    conv2 = tf.nn.conv2d(\n",
    "        conv1,\n",
    "        weights['wc2'],\n",
    "        strides['sc2'],\n",
    "        padding='VALID')\n",
    "    conv2 = tf.nn.bias_add(conv2, biases['bc2'])   \n",
    "    \n",
    "    # Layer 2: Activation with RELU function\n",
    "    conv2 = tf.nn.relu(conv2)\n",
    "    \n",
    "    # Pooling. Input = 10x10x16, Output = 5x5x16\n",
    "    conv2 = tf.nn.max_pool(\n",
    "        conv2,\n",
    "        k_size['mp1'],\n",
    "        strides['mp2'],\n",
    "        padding='VALID'\n",
    "        )\n",
    "    \n",
    "    # Flatten. Input = 5x5x16, Output = 400\n",
    "    conv2_flat = tf.contrib.layers.flatten(conv2)\n",
    "    \n",
    "    # Layer 3: Fully Connected. Input = 400, Output = 120\n",
    "#     wd1 = tf.Variable(tf.truncated_normal([400, 120], mu, sigma))\n",
    "#     bd1 = tf.Variable(tf.zeros(120))\n",
    "\n",
    "    fc1 = tf.add(tf.matmul(conv2_flat, weights['wd1']), biases['bd1'])\n",
    "    \n",
    "    # Activation with RELU function\n",
    "    fc1 = tf.nn.relu(fc1)\n",
    "\n",
    "    # Layer 4: Fully Connected. Input = 120, Output = 84\n",
    "#     wd2 = tf.Variable(tf.truncated_normal([120, 84], mu, sigma))\n",
    "#     bd2 = tf.Variable(tf.zeros(84))\n",
    "    \n",
    "    fc2 = tf.add(tf.matmul(fc1, weights['wd2']), biases['bd2'])\n",
    "    \n",
    "    # Activation with RELU function\n",
    "    fc2 = tf.nn.relu(fc2)\n",
    "\n",
    "    # Logits: Fully Connected. Input = 84, Output = 10\n",
    "#     wd3 = tf.Variable(tf.truncated_normal([84, 10], mu, sigma))\n",
    "#     bd3 = tf.Variable(tf.zeros(10))\n",
    "    \n",
    "    logits = tf.add(tf.matmul(fc2, weights['wd3']), biases['bd3'])\n",
    "    \n",
    "    return logits"
   ]
  },
  {
   "cell_type": "markdown",
   "metadata": {},
   "source": [
    "### Training Pipeline"
   ]
  },
  {
   "cell_type": "code",
   "execution_count": 21,
   "metadata": {},
   "outputs": [],
   "source": [
    "# Pipeline\n",
    "\n",
    "x = tf.placeholder(tf.float32, (None, 32, 32, 3))\n",
    "y = tf.placeholder(tf.int32, (None))\n",
    "one_hot_y = tf.one_hot(y, 10)\n",
    "\n",
    "logits = LeNet(x)\n",
    "cross_entropy = tf.nn.softmax_cross_entropy_with_logits(labels=one_hot_y, logits=logits)\n",
    "loss = tf.reduce_mean(cross_entropy)\n",
    "optimizer = tf.train.AdamOptimizer(learning_rate = rate)\n",
    "training_operation = optimizer.minimize(loss)\n",
    "\n",
    "correct_prediction = tf.equal(tf.argmax(logits, 1), tf.argmax(one_hot_y, 1))\n",
    "accuracy_operation = tf.reduce_mean(tf.cast(correct_prediction, tf.float32))\n",
    "saver = tf.train.Saver()\n",
    "\n",
    "def evaluate(X_data, y_data):\n",
    "    num_examples = len(X_data)\n",
    "    total_accuracy = 0\n",
    "    sess = tf.get_default_session()\n",
    "    for offset in range(0, num_examples, BATCH_SIZE):\n",
    "        batch_x, batch_y = X_data[offset:offset+BATCH_SIZE], y_data[offset:offset+BATCH_SIZE]\n",
    "        accuracy = sess.run(accuracy_operation, feed_dict={x: batch_x, y: batch_y})\n",
    "        total_accuracy += (accuracy * len(batch_x))\n",
    "    return total_accuracy / num_examples"
   ]
  },
  {
   "cell_type": "markdown",
   "metadata": {},
   "source": [
    "### Train, Validate and Test the Model"
   ]
  },
  {
   "cell_type": "markdown",
   "metadata": {},
   "source": [
    "A validation set can be used to assess how well the model is performing. A low accuracy on the training and validation\n",
    "sets imply underfitting. A high accuracy on the training set but low accuracy on the validation set implies overfitting."
   ]
  },
  {
   "cell_type": "code",
   "execution_count": null,
   "metadata": {},
   "outputs": [
    {
     "name": "stdout",
     "output_type": "stream",
     "text": [
      "Training...\n",
      "\n",
      "EPOCH 1 ...\n",
      "Train Accuracy = 0.629\n",
      "Validation Accuracy = 0.646\n",
      "EPOCH 2 ...\n",
      "Train Accuracy = 0.057\n",
      "Validation Accuracy = 0.054\n",
      "EPOCH 3 ...\n",
      "Train Accuracy = 0.036\n",
      "Validation Accuracy = 0.034\n",
      "EPOCH 4 ...\n",
      "Train Accuracy = 0.038\n",
      "Validation Accuracy = 0.034\n",
      "EPOCH 5 ...\n",
      "Train Accuracy = 0.038\n",
      "Validation Accuracy = 0.034\n",
      "EPOCH 6 ...\n",
      "Train Accuracy = 0.058\n",
      "Validation Accuracy = 0.054\n",
      "EPOCH 7 ...\n",
      "Train Accuracy = 0.051\n",
      "Validation Accuracy = 0.048\n",
      "EPOCH 8 ...\n",
      "Train Accuracy = 0.051\n",
      "Validation Accuracy = 0.048\n"
     ]
    }
   ],
   "source": [
    "### Train your model here.\n",
    "### Calculate and report the accuracy on the training and validation set.\n",
    "### Once a final model architecture is selected, \n",
    "### the accuracy on the test set should be calculated and reported as well.\n",
    "### Feel free to use as many code cells as needed.\n",
    "\n",
    "with tf.Session() as sess:\n",
    "    sess.run(tf.global_variables_initializer())\n",
    "    num_examples = n_train\n",
    "    \n",
    "    print(\"Training...\")\n",
    "    print()\n",
    "    for i in range(EPOCHS):\n",
    "        X_train, y_train = shuffle(X_train, y_train)\n",
    "#         X_valid, y_valid = shuffle(X_valid_gray, y_valid)\n",
    "        for offset in range(0, num_examples, BATCH_SIZE):\n",
    "            end = offset + BATCH_SIZE\n",
    "            batch_x, batch_y = X_train[offset:end], y_train[offset:end]\n",
    "            sess.run(training_operation, feed_dict={x: batch_x, y: batch_y})\n",
    "        train_accuracy = evaluate(X_train, y_train)    \n",
    "        validation_accuracy = evaluate(X_valid, y_valid)\n",
    "        print(\"EPOCH {} ...\".format(i+1))\n",
    "        print('Train Accuracy = {:.3f}'.format(train_accuracy))\n",
    "        print(\"Validation Accuracy = {:.3f}\".format(validation_accuracy))\n",
    "        \n",
    "    saver.save(sess, './lenet')\n",
    "    print(\"Model saved\")"
   ]
  },
  {
   "cell_type": "markdown",
   "metadata": {},
   "source": [
    "---\n",
    "\n",
    "## Step 3: Test a Model on New Images\n",
    "\n",
    "To give yourself more insight into how your model is working, download at least five pictures of German traffic signs from the web and use your model to predict the traffic sign type.\n",
    "\n",
    "You may find `signnames.csv` useful as it contains mappings from the class id (integer) to the actual sign name."
   ]
  },
  {
   "cell_type": "markdown",
   "metadata": {},
   "source": [
    "### Load and Output the Images"
   ]
  },
  {
   "cell_type": "code",
   "execution_count": null,
   "metadata": {},
   "outputs": [],
   "source": [
    "### Load the images and plot them here.\n",
    "### Feel free to use as many code cells as needed."
   ]
  },
  {
   "cell_type": "markdown",
   "metadata": {},
   "source": [
    "### Predict the Sign Type for Each Image"
   ]
  },
  {
   "cell_type": "code",
   "execution_count": null,
   "metadata": {},
   "outputs": [],
   "source": [
    "### Run the predictions here and use the model to output the prediction for each image.\n",
    "### Make sure to pre-process the images with the same pre-processing pipeline used earlier.\n",
    "### Feel free to use as many code cells as needed."
   ]
  },
  {
   "cell_type": "markdown",
   "metadata": {},
   "source": [
    "### Analyze Performance"
   ]
  },
  {
   "cell_type": "code",
   "execution_count": null,
   "metadata": {},
   "outputs": [],
   "source": [
    "### Calculate the accuracy for these 5 new images. \n",
    "### For example, if the model predicted 1 out of 5 signs correctly, it's 20% accurate on these new images."
   ]
  },
  {
   "cell_type": "markdown",
   "metadata": {},
   "source": [
    "### Output Top 5 Softmax Probabilities For Each Image Found on the Web"
   ]
  },
  {
   "cell_type": "markdown",
   "metadata": {},
   "source": [
    "For each of the new images, print out the model's softmax probabilities to show the **certainty** of the model's predictions (limit the output to the top 5 probabilities for each image). [`tf.nn.top_k`](https://www.tensorflow.org/versions/r0.12/api_docs/python/nn.html#top_k) could prove helpful here. \n",
    "\n",
    "The example below demonstrates how tf.nn.top_k can be used to find the top k predictions for each image.\n",
    "\n",
    "`tf.nn.top_k` will return the values and indices (class ids) of the top k predictions. So if k=3, for each sign, it'll return the 3 largest probabilities (out of a possible 43) and the correspoding class ids.\n",
    "\n",
    "Take this numpy array as an example. The values in the array represent predictions. The array contains softmax probabilities for five candidate images with six possible classes. `tf.nn.top_k` is used to choose the three classes with the highest probability:\n",
    "\n",
    "```\n",
    "# (5, 6) array\n",
    "a = np.array([[ 0.24879643,  0.07032244,  0.12641572,  0.34763842,  0.07893497,\n",
    "         0.12789202],\n",
    "       [ 0.28086119,  0.27569815,  0.08594638,  0.0178669 ,  0.18063401,\n",
    "         0.15899337],\n",
    "       [ 0.26076848,  0.23664738,  0.08020603,  0.07001922,  0.1134371 ,\n",
    "         0.23892179],\n",
    "       [ 0.11943333,  0.29198961,  0.02605103,  0.26234032,  0.1351348 ,\n",
    "         0.16505091],\n",
    "       [ 0.09561176,  0.34396535,  0.0643941 ,  0.16240774,  0.24206137,\n",
    "         0.09155967]])\n",
    "```\n",
    "\n",
    "Running it through `sess.run(tf.nn.top_k(tf.constant(a), k=3))` produces:\n",
    "\n",
    "```\n",
    "TopKV2(values=array([[ 0.34763842,  0.24879643,  0.12789202],\n",
    "       [ 0.28086119,  0.27569815,  0.18063401],\n",
    "       [ 0.26076848,  0.23892179,  0.23664738],\n",
    "       [ 0.29198961,  0.26234032,  0.16505091],\n",
    "       [ 0.34396535,  0.24206137,  0.16240774]]), indices=array([[3, 0, 5],\n",
    "       [0, 1, 4],\n",
    "       [0, 5, 1],\n",
    "       [1, 3, 5],\n",
    "       [1, 4, 3]], dtype=int32))\n",
    "```\n",
    "\n",
    "Looking just at the first row we get `[ 0.34763842,  0.24879643,  0.12789202]`, you can confirm these are the 3 largest probabilities in `a`. You'll also notice `[3, 0, 5]` are the corresponding indices."
   ]
  },
  {
   "cell_type": "code",
   "execution_count": null,
   "metadata": {},
   "outputs": [],
   "source": [
    "### Print out the top five softmax probabilities for the predictions on the German traffic sign images found on the web. \n",
    "### Feel free to use as many code cells as needed."
   ]
  },
  {
   "cell_type": "markdown",
   "metadata": {},
   "source": [
    "### Project Writeup\n",
    "\n",
    "Once you have completed the code implementation, document your results in a project writeup using this [template](https://github.com/udacity/CarND-Traffic-Sign-Classifier-Project/blob/master/writeup_template.md) as a guide. The writeup can be in a markdown or pdf file. "
   ]
  },
  {
   "cell_type": "markdown",
   "metadata": {},
   "source": [
    "> **Note**: Once you have completed all of the code implementations and successfully answered each question above, you may finalize your work by exporting the iPython Notebook as an HTML document. You can do this by using the menu above and navigating to  \\n\",\n",
    "    \"**File -> Download as -> HTML (.html)**. Include the finished document along with this notebook as your submission."
   ]
  },
  {
   "cell_type": "markdown",
   "metadata": {},
   "source": [
    "---\n",
    "\n",
    "## Step 4 (Optional): Visualize the Neural Network's State with Test Images\n",
    "\n",
    " This Section is not required to complete but acts as an additional excersise for understaning the output of a neural network's weights. While neural networks can be a great learning device they are often referred to as a black box. We can understand what the weights of a neural network look like better by plotting their feature maps. After successfully training your neural network you can see what it's feature maps look like by plotting the output of the network's weight layers in response to a test stimuli image. From these plotted feature maps, it's possible to see what characteristics of an image the network finds interesting. For a sign, maybe the inner network feature maps react with high activation to the sign's boundary outline or to the contrast in the sign's painted symbol.\n",
    "\n",
    " Provided for you below is the function code that allows you to get the visualization output of any tensorflow weight layer you want. The inputs to the function should be a stimuli image, one used during training or a new one you provided, and then the tensorflow variable name that represents the layer's state during the training process, for instance if you wanted to see what the [LeNet lab's](https://classroom.udacity.com/nanodegrees/nd013/parts/fbf77062-5703-404e-b60c-95b78b2f3f9e/modules/6df7ae49-c61c-4bb2-a23e-6527e69209ec/lessons/601ae704-1035-4287-8b11-e2c2716217ad/concepts/d4aca031-508f-4e0b-b493-e7b706120f81) feature maps looked like for it's second convolutional layer you could enter conv2 as the tf_activation variable.\n",
    "\n",
    "For an example of what feature map outputs look like, check out NVIDIA's results in their paper [End-to-End Deep Learning for Self-Driving Cars](https://devblogs.nvidia.com/parallelforall/deep-learning-self-driving-cars/) in the section Visualization of internal CNN State. NVIDIA was able to show that their network's inner weights had high activations to road boundary lines by comparing feature maps from an image with a clear path to one without. Try experimenting with a similar test to show that your trained network's weights are looking for interesting features, whether it's looking at differences in feature maps from images with or without a sign, or even what feature maps look like in a trained network vs a completely untrained one on the same sign image.\n",
    "\n",
    "<figure>\n",
    " <img src=\"visualize_cnn.png\" width=\"380\" alt=\"Combined Image\" />\n",
    " <figcaption>\n",
    " <p></p> \n",
    " <p style=\"text-align: center;\"> Your output should look something like this (above)</p> \n",
    " </figcaption>\n",
    "</figure>\n",
    " <p></p> \n"
   ]
  },
  {
   "cell_type": "code",
   "execution_count": null,
   "metadata": {},
   "outputs": [],
   "source": [
    "### Visualize your network's feature maps here.\n",
    "### Feel free to use as many code cells as needed.\n",
    "\n",
    "# image_input: the test image being fed into the network to produce the feature maps\n",
    "# tf_activation: should be a tf variable name used during your training procedure that represents the calculated state of a specific weight layer\n",
    "# activation_min/max: can be used to view the activation contrast in more detail, by default matplot sets min and max to the actual min and max values of the output\n",
    "# plt_num: used to plot out multiple different weight feature map sets on the same block, just extend the plt number for each new feature map entry\n",
    "\n",
    "def outputFeatureMap(image_input, tf_activation, activation_min=-1, activation_max=-1 ,plt_num=1):\n",
    "    # Here make sure to preprocess your image_input in a way your network expects\n",
    "    # with size, normalization, ect if needed\n",
    "    # image_input =\n",
    "    # Note: x should be the same name as your network's tensorflow data placeholder variable\n",
    "    # If you get an error tf_activation is not defined it may be having trouble accessing the variable from inside a function\n",
    "    activation = tf_activation.eval(session=sess,feed_dict={x : image_input})\n",
    "    featuremaps = activation.shape[3]\n",
    "    plt.figure(plt_num, figsize=(15,15))\n",
    "    for featuremap in range(featuremaps):\n",
    "        plt.subplot(6,8, featuremap+1) # sets the number of feature maps to show on each row and column\n",
    "        plt.title('FeatureMap ' + str(featuremap)) # displays the feature map number\n",
    "        if activation_min != -1 & activation_max != -1:\n",
    "            plt.imshow(activation[0,:,:, featuremap], interpolation=\"nearest\", vmin =activation_min, vmax=activation_max, cmap=\"gray\")\n",
    "        elif activation_max != -1:\n",
    "            plt.imshow(activation[0,:,:, featuremap], interpolation=\"nearest\", vmax=activation_max, cmap=\"gray\")\n",
    "        elif activation_min !=-1:\n",
    "            plt.imshow(activation[0,:,:, featuremap], interpolation=\"nearest\", vmin=activation_min, cmap=\"gray\")\n",
    "        else:\n",
    "            plt.imshow(activation[0,:,:, featuremap], interpolation=\"nearest\", cmap=\"gray\")"
   ]
  }
 ],
 "metadata": {
  "anaconda-cloud": {},
  "kernelspec": {
   "display_name": "Python 3",
   "language": "python",
   "name": "python3"
  },
  "language_info": {
   "codemirror_mode": {
    "name": "ipython",
    "version": 3
   },
   "file_extension": ".py",
   "mimetype": "text/x-python",
   "name": "python",
   "nbconvert_exporter": "python",
   "pygments_lexer": "ipython3",
   "version": "3.7.6"
  }
 },
 "nbformat": 4,
 "nbformat_minor": 4
}
